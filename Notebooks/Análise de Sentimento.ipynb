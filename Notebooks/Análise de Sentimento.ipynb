{
 "cells": [
  {
   "cell_type": "markdown",
   "id": "d3ff8f60",
   "metadata": {},
   "source": [
    "<h1>Análise de sentimento</h1>\n",
    "<br>\n",
    "<h2>VADER-Sentiment-Analysis</h2>\n",
    "\n",
    "Instalando a biblioteca que nos ajudará a interpretar os tweets\n",
    "\n",
    "<a href='https://github.com/cjhutto/vaderSentiment'> vaderSentiment INFO</a>\n",
    "<br><br>\n",
    "\n",
    "<br>"
   ]
  },
  {
   "cell_type": "code",
   "execution_count": 1,
   "id": "dfc6a645",
   "metadata": {},
   "outputs": [],
   "source": [
    "#!pip install vaderSentiment"
   ]
  },
  {
   "cell_type": "code",
   "execution_count": 2,
   "id": "9afbf9d5",
   "metadata": {},
   "outputs": [],
   "source": [
    "import pandas as pd\n",
    "import re\n",
    "import matplotlib as plt\n",
    "import seaborn as sns\n",
    "%matplotlib inline\n",
    "# Biblioteca de processamento de linguagem natural\n",
    "import nltk\n",
    "from vaderSentiment.vaderSentiment import SentimentIntensityAnalyzer"
   ]
  },
  {
   "cell_type": "code",
   "execution_count": 3,
   "id": "653be22f",
   "metadata": {},
   "outputs": [
    {
     "data": {
      "text/html": [
       "<div>\n",
       "<style scoped>\n",
       "    .dataframe tbody tr th:only-of-type {\n",
       "        vertical-align: middle;\n",
       "    }\n",
       "\n",
       "    .dataframe tbody tr th {\n",
       "        vertical-align: top;\n",
       "    }\n",
       "\n",
       "    .dataframe thead th {\n",
       "        text-align: right;\n",
       "    }\n",
       "</style>\n",
       "<table border=\"1\" class=\"dataframe\">\n",
       "  <thead>\n",
       "    <tr style=\"text-align: right;\">\n",
       "      <th></th>\n",
       "      <th>Data</th>\n",
       "      <th>Id</th>\n",
       "      <th>Tweet</th>\n",
       "      <th>Candidato</th>\n",
       "      <th>Tweet_limpo</th>\n",
       "    </tr>\n",
       "  </thead>\n",
       "  <tbody>\n",
       "    <tr>\n",
       "      <th>0</th>\n",
       "      <td>2022-08-01 22:56:21+00:00</td>\n",
       "      <td>1554239639266934785</td>\n",
       "      <td>@JoseAloiseBahia @WilmarPetista @augustotomano...</td>\n",
       "      <td>Lula</td>\n",
       "      <td>osealoisebahia ilmarpetista ugustotomanov alag...</td>\n",
       "    </tr>\n",
       "    <tr>\n",
       "      <th>1</th>\n",
       "      <td>2022-08-01 22:56:18+00:00</td>\n",
       "      <td>1554239629196394497</td>\n",
       "      <td>Chega o Natal, mas não chega a eleição. Quem a...</td>\n",
       "      <td>Lula</td>\n",
       "      <td>chega o natal, mas não chega a eleição. quem a...</td>\n",
       "    </tr>\n",
       "    <tr>\n",
       "      <th>2</th>\n",
       "      <td>2022-08-01 22:56:17+00:00</td>\n",
       "      <td>1554239623374815232</td>\n",
       "      <td>47% lula\\n29%bolsonaro https://t.co/h9jUGDadTP</td>\n",
       "      <td>Lula</td>\n",
       "      <td>47% lula29%bolsonaro https://t.co/h9jugdadtp</td>\n",
       "    </tr>\n",
       "    <tr>\n",
       "      <th>3</th>\n",
       "      <td>2022-08-01 22:56:13+00:00</td>\n",
       "      <td>1554239607570669569</td>\n",
       "      <td>@PaulettoShirlei @LulaOficial @ricardostuckert...</td>\n",
       "      <td>Lula</td>\n",
       "      <td>aulettoshirlei ulaoficial icardostuckert parec...</td>\n",
       "    </tr>\n",
       "    <tr>\n",
       "      <th>4</th>\n",
       "      <td>2022-08-01 22:56:11+00:00</td>\n",
       "      <td>1554239599005818880</td>\n",
       "      <td>@77_frota @jrbozzella Vai votar no Lula também...</td>\n",
       "      <td>Lula</td>\n",
       "      <td>7_frota rbozzella vai votar no lula também, fr...</td>\n",
       "    </tr>\n",
       "  </tbody>\n",
       "</table>\n",
       "</div>"
      ],
      "text/plain": [
       "                        Data                   Id  \\\n",
       "0  2022-08-01 22:56:21+00:00  1554239639266934785   \n",
       "1  2022-08-01 22:56:18+00:00  1554239629196394497   \n",
       "2  2022-08-01 22:56:17+00:00  1554239623374815232   \n",
       "3  2022-08-01 22:56:13+00:00  1554239607570669569   \n",
       "4  2022-08-01 22:56:11+00:00  1554239599005818880   \n",
       "\n",
       "                                               Tweet Candidato  \\\n",
       "0  @JoseAloiseBahia @WilmarPetista @augustotomano...      Lula   \n",
       "1  Chega o Natal, mas não chega a eleição. Quem a...      Lula   \n",
       "2     47% lula\\n29%bolsonaro https://t.co/h9jUGDadTP      Lula   \n",
       "3  @PaulettoShirlei @LulaOficial @ricardostuckert...      Lula   \n",
       "4  @77_frota @jrbozzella Vai votar no Lula também...      Lula   \n",
       "\n",
       "                                         Tweet_limpo  \n",
       "0  osealoisebahia ilmarpetista ugustotomanov alag...  \n",
       "1  chega o natal, mas não chega a eleição. quem a...  \n",
       "2       47% lula29%bolsonaro https://t.co/h9jugdadtp  \n",
       "3  aulettoshirlei ulaoficial icardostuckert parec...  \n",
       "4  7_frota rbozzella vai votar no lula também, fr...  "
      ]
     },
     "execution_count": 3,
     "metadata": {},
     "output_type": "execute_result"
    }
   ],
   "source": [
    "df_presidenciaveis = pd.read_csv('DF_Presidenciaveis_2022_limpo')\n",
    "df_presidenciaveis.head()"
   ]
  },
  {
   "cell_type": "code",
   "execution_count": 4,
   "id": "fb59d96d",
   "metadata": {},
   "outputs": [],
   "source": [
    "sid = SentimentIntensityAnalyzer()"
   ]
  },
  {
   "cell_type": "code",
   "execution_count": 5,
   "id": "b803665c",
   "metadata": {},
   "outputs": [],
   "source": [
    "sentimento_tweet = df_presidenciaveis['Tweet_limpo']"
   ]
  },
  {
   "cell_type": "code",
   "execution_count": 6,
   "id": "c63f16de",
   "metadata": {},
   "outputs": [],
   "source": [
    "sentimento_tweet = sentimento_tweet.apply(lambda _:sid.polarity_scores(' '.join(re.findall(r'\\w+', _.lower()))))"
   ]
  },
  {
   "cell_type": "code",
   "execution_count": 7,
   "id": "405b6e0e",
   "metadata": {},
   "outputs": [
    {
     "data": {
      "text/plain": [
       "0    {'neg': 0.0, 'neu': 1.0, 'pos': 0.0, 'compound...\n",
       "1    {'neg': 0.099, 'neu': 0.901, 'pos': 0.0, 'comp...\n",
       "2    {'neg': 0.0, 'neu': 1.0, 'pos': 0.0, 'compound...\n",
       "3    {'neg': 0.0, 'neu': 1.0, 'pos': 0.0, 'compound...\n",
       "4    {'neg': 0.167, 'neu': 0.833, 'pos': 0.0, 'comp...\n",
       "Name: Tweet_limpo, dtype: object"
      ]
     },
     "execution_count": 7,
     "metadata": {},
     "output_type": "execute_result"
    }
   ],
   "source": [
    "# Dicionário de sentimentos, negativo, neutro, positivo: nota\n",
    "sentimento_tweet.head()"
   ]
  },
  {
   "cell_type": "code",
   "execution_count": 8,
   "id": "a758c844",
   "metadata": {},
   "outputs": [],
   "source": [
    "df_presidenciaveis['Negativo'] = sentimento_tweet.apply(lambda _:_['neg'])\n",
    "df_presidenciaveis['Neutro'] = sentimento_tweet.apply(lambda _:_['neu'])\n",
    "df_presidenciaveis['Positivo'] = sentimento_tweet.apply(lambda _:_['pos'])\n",
    "df_presidenciaveis['Composicao'] = sentimento_tweet.apply(lambda _:_['compound'])"
   ]
  },
  {
   "cell_type": "code",
   "execution_count": 9,
   "id": "0b07b5d6",
   "metadata": {},
   "outputs": [
    {
     "data": {
      "text/html": [
       "<div>\n",
       "<style scoped>\n",
       "    .dataframe tbody tr th:only-of-type {\n",
       "        vertical-align: middle;\n",
       "    }\n",
       "\n",
       "    .dataframe tbody tr th {\n",
       "        vertical-align: top;\n",
       "    }\n",
       "\n",
       "    .dataframe thead th {\n",
       "        text-align: right;\n",
       "    }\n",
       "</style>\n",
       "<table border=\"1\" class=\"dataframe\">\n",
       "  <thead>\n",
       "    <tr style=\"text-align: right;\">\n",
       "      <th></th>\n",
       "      <th>Data</th>\n",
       "      <th>Id</th>\n",
       "      <th>Tweet</th>\n",
       "      <th>Candidato</th>\n",
       "      <th>Tweet_limpo</th>\n",
       "      <th>Negativo</th>\n",
       "      <th>Neutro</th>\n",
       "      <th>Positivo</th>\n",
       "      <th>Composicao</th>\n",
       "    </tr>\n",
       "  </thead>\n",
       "  <tbody>\n",
       "    <tr>\n",
       "      <th>0</th>\n",
       "      <td>2022-08-01 22:56:21+00:00</td>\n",
       "      <td>1554239639266934785</td>\n",
       "      <td>@JoseAloiseBahia @WilmarPetista @augustotomano...</td>\n",
       "      <td>Lula</td>\n",
       "      <td>osealoisebahia ilmarpetista ugustotomanov alag...</td>\n",
       "      <td>0.000</td>\n",
       "      <td>1.000</td>\n",
       "      <td>0.0</td>\n",
       "      <td>0.000</td>\n",
       "    </tr>\n",
       "    <tr>\n",
       "      <th>1</th>\n",
       "      <td>2022-08-01 22:56:18+00:00</td>\n",
       "      <td>1554239629196394497</td>\n",
       "      <td>Chega o Natal, mas não chega a eleição. Quem a...</td>\n",
       "      <td>Lula</td>\n",
       "      <td>chega o natal, mas não chega a eleição. quem a...</td>\n",
       "      <td>0.099</td>\n",
       "      <td>0.901</td>\n",
       "      <td>0.0</td>\n",
       "      <td>-0.296</td>\n",
       "    </tr>\n",
       "    <tr>\n",
       "      <th>2</th>\n",
       "      <td>2022-08-01 22:56:17+00:00</td>\n",
       "      <td>1554239623374815232</td>\n",
       "      <td>47% lula\\n29%bolsonaro https://t.co/h9jUGDadTP</td>\n",
       "      <td>Lula</td>\n",
       "      <td>47% lula29%bolsonaro https://t.co/h9jugdadtp</td>\n",
       "      <td>0.000</td>\n",
       "      <td>1.000</td>\n",
       "      <td>0.0</td>\n",
       "      <td>0.000</td>\n",
       "    </tr>\n",
       "    <tr>\n",
       "      <th>3</th>\n",
       "      <td>2022-08-01 22:56:13+00:00</td>\n",
       "      <td>1554239607570669569</td>\n",
       "      <td>@PaulettoShirlei @LulaOficial @ricardostuckert...</td>\n",
       "      <td>Lula</td>\n",
       "      <td>aulettoshirlei ulaoficial icardostuckert parec...</td>\n",
       "      <td>0.000</td>\n",
       "      <td>1.000</td>\n",
       "      <td>0.0</td>\n",
       "      <td>0.000</td>\n",
       "    </tr>\n",
       "    <tr>\n",
       "      <th>4</th>\n",
       "      <td>2022-08-01 22:56:11+00:00</td>\n",
       "      <td>1554239599005818880</td>\n",
       "      <td>@77_frota @jrbozzella Vai votar no Lula também...</td>\n",
       "      <td>Lula</td>\n",
       "      <td>7_frota rbozzella vai votar no lula também, fr...</td>\n",
       "      <td>0.167</td>\n",
       "      <td>0.833</td>\n",
       "      <td>0.0</td>\n",
       "      <td>-0.296</td>\n",
       "    </tr>\n",
       "  </tbody>\n",
       "</table>\n",
       "</div>"
      ],
      "text/plain": [
       "                        Data                   Id  \\\n",
       "0  2022-08-01 22:56:21+00:00  1554239639266934785   \n",
       "1  2022-08-01 22:56:18+00:00  1554239629196394497   \n",
       "2  2022-08-01 22:56:17+00:00  1554239623374815232   \n",
       "3  2022-08-01 22:56:13+00:00  1554239607570669569   \n",
       "4  2022-08-01 22:56:11+00:00  1554239599005818880   \n",
       "\n",
       "                                               Tweet Candidato  \\\n",
       "0  @JoseAloiseBahia @WilmarPetista @augustotomano...      Lula   \n",
       "1  Chega o Natal, mas não chega a eleição. Quem a...      Lula   \n",
       "2     47% lula\\n29%bolsonaro https://t.co/h9jUGDadTP      Lula   \n",
       "3  @PaulettoShirlei @LulaOficial @ricardostuckert...      Lula   \n",
       "4  @77_frota @jrbozzella Vai votar no Lula também...      Lula   \n",
       "\n",
       "                                         Tweet_limpo  Negativo  Neutro  \\\n",
       "0  osealoisebahia ilmarpetista ugustotomanov alag...     0.000   1.000   \n",
       "1  chega o natal, mas não chega a eleição. quem a...     0.099   0.901   \n",
       "2       47% lula29%bolsonaro https://t.co/h9jugdadtp     0.000   1.000   \n",
       "3  aulettoshirlei ulaoficial icardostuckert parec...     0.000   1.000   \n",
       "4  7_frota rbozzella vai votar no lula também, fr...     0.167   0.833   \n",
       "\n",
       "   Positivo  Composicao  \n",
       "0       0.0       0.000  \n",
       "1       0.0      -0.296  \n",
       "2       0.0       0.000  \n",
       "3       0.0       0.000  \n",
       "4       0.0      -0.296  "
      ]
     },
     "execution_count": 9,
     "metadata": {},
     "output_type": "execute_result"
    }
   ],
   "source": [
    "df_presidenciaveis.head()"
   ]
  },
  {
   "cell_type": "code",
   "execution_count": 10,
   "id": "e4bc0e65",
   "metadata": {},
   "outputs": [],
   "source": [
    "sentimentos = []"
   ]
  },
  {
   "cell_type": "code",
   "execution_count": 11,
   "id": "ab3a0b83",
   "metadata": {},
   "outputs": [],
   "source": [
    "for sentimento in df_presidenciaveis['Composicao']:\n",
    "    if sentimento >= 0.05:\n",
    "        sentimentos.append('Postivo')\n",
    "    elif sentimento <= (-0.05):\n",
    "        sentimentos.append('Negativo')\n",
    "    else:\n",
    "        sentimentos.append('Neutro')"
   ]
  },
  {
   "cell_type": "code",
   "execution_count": 12,
   "id": "cfd22ec5",
   "metadata": {},
   "outputs": [
    {
     "name": "stdout",
     "output_type": "stream",
     "text": [
      "['Neutro', 'Negativo', 'Neutro', 'Neutro', 'Negativo', 'Neutro', 'Neutro', 'Neutro', 'Neutro', 'Neutro', 'Neutro', 'Neutro', 'Neutro', 'Neutro', 'Negativo', 'Neutro', 'Neutro', 'Negativo', 'Neutro', 'Neutro', 'Negativo', 'Negativo', 'Neutro', 'Neutro', 'Negativo', 'Neutro', 'Negativo', 'Negativo', 'Neutro', 'Neutro', 'Neutro', 'Postivo', 'Neutro', 'Neutro', 'Negativo', 'Neutro', 'Neutro', 'Negativo', 'Neutro', 'Neutro', 'Neutro', 'Neutro', 'Neutro', 'Neutro', 'Neutro', 'Neutro', 'Neutro', 'Neutro', 'Negativo', 'Neutro', 'Neutro', 'Neutro', 'Neutro', 'Neutro', 'Negativo', 'Neutro', 'Neutro', 'Neutro', 'Negativo', 'Neutro', 'Neutro', 'Neutro', 'Postivo', 'Negativo', 'Neutro', 'Neutro', 'Negativo', 'Neutro', 'Postivo', 'Neutro', 'Neutro', 'Neutro', 'Negativo', 'Neutro', 'Neutro', 'Neutro', 'Neutro', 'Neutro', 'Negativo', 'Neutro', 'Neutro', 'Negativo', 'Neutro', 'Neutro', 'Neutro', 'Neutro', 'Neutro', 'Neutro', 'Neutro', 'Neutro', 'Neutro', 'Neutro', 'Neutro', 'Neutro', 'Neutro', 'Neutro', 'Postivo', 'Neutro', 'Neutro', 'Neutro', 'Neutro', 'Neutro', 'Neutro', 'Neutro', 'Neutro', 'Negativo', 'Neutro', 'Neutro', 'Neutro', 'Negativo', 'Neutro', 'Neutro', 'Neutro', 'Postivo', 'Negativo', 'Neutro', 'Neutro', 'Negativo', 'Neutro', 'Postivo', 'Neutro', 'Neutro', 'Neutro', 'Negativo', 'Neutro', 'Neutro', 'Neutro', 'Neutro', 'Neutro', 'Negativo', 'Neutro', 'Neutro', 'Negativo', 'Neutro', 'Neutro', 'Neutro', 'Neutro', 'Neutro', 'Neutro', 'Neutro', 'Neutro', 'Neutro', 'Neutro', 'Neutro', 'Neutro', 'Neutro', 'Neutro', 'Postivo', 'Neutro', 'Neutro', 'Neutro', 'Neutro', 'Neutro']\n"
     ]
    }
   ],
   "source": [
    "print(sentimentos)"
   ]
  },
  {
   "cell_type": "code",
   "execution_count": 13,
   "id": "3b12752c",
   "metadata": {},
   "outputs": [],
   "source": [
    "df_presidenciaveis['Sentimento'] = sentimentos"
   ]
  },
  {
   "cell_type": "code",
   "execution_count": 14,
   "id": "5d20eb06",
   "metadata": {},
   "outputs": [
    {
     "data": {
      "text/html": [
       "<div>\n",
       "<style scoped>\n",
       "    .dataframe tbody tr th:only-of-type {\n",
       "        vertical-align: middle;\n",
       "    }\n",
       "\n",
       "    .dataframe tbody tr th {\n",
       "        vertical-align: top;\n",
       "    }\n",
       "\n",
       "    .dataframe thead th {\n",
       "        text-align: right;\n",
       "    }\n",
       "</style>\n",
       "<table border=\"1\" class=\"dataframe\">\n",
       "  <thead>\n",
       "    <tr style=\"text-align: right;\">\n",
       "      <th></th>\n",
       "      <th>Data</th>\n",
       "      <th>Id</th>\n",
       "      <th>Tweet</th>\n",
       "      <th>Candidato</th>\n",
       "      <th>Tweet_limpo</th>\n",
       "      <th>Negativo</th>\n",
       "      <th>Neutro</th>\n",
       "      <th>Positivo</th>\n",
       "      <th>Composicao</th>\n",
       "      <th>Sentimento</th>\n",
       "    </tr>\n",
       "  </thead>\n",
       "  <tbody>\n",
       "    <tr>\n",
       "      <th>0</th>\n",
       "      <td>2022-08-01 22:56:21+00:00</td>\n",
       "      <td>1554239639266934785</td>\n",
       "      <td>@JoseAloiseBahia @WilmarPetista @augustotomano...</td>\n",
       "      <td>Lula</td>\n",
       "      <td>osealoisebahia ilmarpetista ugustotomanov alag...</td>\n",
       "      <td>0.000</td>\n",
       "      <td>1.000</td>\n",
       "      <td>0.0</td>\n",
       "      <td>0.000</td>\n",
       "      <td>Neutro</td>\n",
       "    </tr>\n",
       "    <tr>\n",
       "      <th>1</th>\n",
       "      <td>2022-08-01 22:56:18+00:00</td>\n",
       "      <td>1554239629196394497</td>\n",
       "      <td>Chega o Natal, mas não chega a eleição. Quem a...</td>\n",
       "      <td>Lula</td>\n",
       "      <td>chega o natal, mas não chega a eleição. quem a...</td>\n",
       "      <td>0.099</td>\n",
       "      <td>0.901</td>\n",
       "      <td>0.0</td>\n",
       "      <td>-0.296</td>\n",
       "      <td>Negativo</td>\n",
       "    </tr>\n",
       "    <tr>\n",
       "      <th>2</th>\n",
       "      <td>2022-08-01 22:56:17+00:00</td>\n",
       "      <td>1554239623374815232</td>\n",
       "      <td>47% lula\\n29%bolsonaro https://t.co/h9jUGDadTP</td>\n",
       "      <td>Lula</td>\n",
       "      <td>47% lula29%bolsonaro https://t.co/h9jugdadtp</td>\n",
       "      <td>0.000</td>\n",
       "      <td>1.000</td>\n",
       "      <td>0.0</td>\n",
       "      <td>0.000</td>\n",
       "      <td>Neutro</td>\n",
       "    </tr>\n",
       "    <tr>\n",
       "      <th>3</th>\n",
       "      <td>2022-08-01 22:56:13+00:00</td>\n",
       "      <td>1554239607570669569</td>\n",
       "      <td>@PaulettoShirlei @LulaOficial @ricardostuckert...</td>\n",
       "      <td>Lula</td>\n",
       "      <td>aulettoshirlei ulaoficial icardostuckert parec...</td>\n",
       "      <td>0.000</td>\n",
       "      <td>1.000</td>\n",
       "      <td>0.0</td>\n",
       "      <td>0.000</td>\n",
       "      <td>Neutro</td>\n",
       "    </tr>\n",
       "    <tr>\n",
       "      <th>4</th>\n",
       "      <td>2022-08-01 22:56:11+00:00</td>\n",
       "      <td>1554239599005818880</td>\n",
       "      <td>@77_frota @jrbozzella Vai votar no Lula também...</td>\n",
       "      <td>Lula</td>\n",
       "      <td>7_frota rbozzella vai votar no lula também, fr...</td>\n",
       "      <td>0.167</td>\n",
       "      <td>0.833</td>\n",
       "      <td>0.0</td>\n",
       "      <td>-0.296</td>\n",
       "      <td>Negativo</td>\n",
       "    </tr>\n",
       "  </tbody>\n",
       "</table>\n",
       "</div>"
      ],
      "text/plain": [
       "                        Data                   Id  \\\n",
       "0  2022-08-01 22:56:21+00:00  1554239639266934785   \n",
       "1  2022-08-01 22:56:18+00:00  1554239629196394497   \n",
       "2  2022-08-01 22:56:17+00:00  1554239623374815232   \n",
       "3  2022-08-01 22:56:13+00:00  1554239607570669569   \n",
       "4  2022-08-01 22:56:11+00:00  1554239599005818880   \n",
       "\n",
       "                                               Tweet Candidato  \\\n",
       "0  @JoseAloiseBahia @WilmarPetista @augustotomano...      Lula   \n",
       "1  Chega o Natal, mas não chega a eleição. Quem a...      Lula   \n",
       "2     47% lula\\n29%bolsonaro https://t.co/h9jUGDadTP      Lula   \n",
       "3  @PaulettoShirlei @LulaOficial @ricardostuckert...      Lula   \n",
       "4  @77_frota @jrbozzella Vai votar no Lula também...      Lula   \n",
       "\n",
       "                                         Tweet_limpo  Negativo  Neutro  \\\n",
       "0  osealoisebahia ilmarpetista ugustotomanov alag...     0.000   1.000   \n",
       "1  chega o natal, mas não chega a eleição. quem a...     0.099   0.901   \n",
       "2       47% lula29%bolsonaro https://t.co/h9jugdadtp     0.000   1.000   \n",
       "3  aulettoshirlei ulaoficial icardostuckert parec...     0.000   1.000   \n",
       "4  7_frota rbozzella vai votar no lula também, fr...     0.167   0.833   \n",
       "\n",
       "   Positivo  Composicao Sentimento  \n",
       "0       0.0       0.000     Neutro  \n",
       "1       0.0      -0.296   Negativo  \n",
       "2       0.0       0.000     Neutro  \n",
       "3       0.0       0.000     Neutro  \n",
       "4       0.0      -0.296   Negativo  "
      ]
     },
     "execution_count": 14,
     "metadata": {},
     "output_type": "execute_result"
    }
   ],
   "source": [
    "df_presidenciaveis.head()"
   ]
  },
  {
   "cell_type": "code",
   "execution_count": 15,
   "id": "39868515",
   "metadata": {},
   "outputs": [
    {
     "data": {
      "text/plain": [
       "Neutro      120\n",
       "Negativo     26\n",
       "Postivo       7\n",
       "Name: Sentimento, dtype: int64"
      ]
     },
     "execution_count": 15,
     "metadata": {},
     "output_type": "execute_result"
    }
   ],
   "source": [
    "df_presidenciaveis['Sentimento'].value_counts()"
   ]
  },
  {
   "cell_type": "code",
   "execution_count": 26,
   "id": "383caf24",
   "metadata": {
    "scrolled": true
   },
   "outputs": [
    {
     "data": {
      "text/plain": [
       "<AxesSubplot:xlabel='count', ylabel='Sentimento'>"
      ]
     },
     "execution_count": 26,
     "metadata": {},
     "output_type": "execute_result"
    },
    {
     "data": {
      "image/png": "[encoded data removed]",
      "text/plain": [
       "<Figure size 432x288 with 1 Axes>"
      ]
     },
     "metadata": {
      "needs_background": "light"
     },
     "output_type": "display_data"
    }
   ],
   "source": [
    "sns.countplot(data=df_presidenciaveis, y='Sentimento', hue='Candidato')"
   ]
  },
  {
   "cell_type": "code",
   "execution_count": 16,
   "id": "e0e6c1e7",
   "metadata": {},
   "outputs": [
    {
     "data": {
      "text/plain": [
       "<AxesSubplot:xlabel='count', ylabel='Sentimento'>"
      ]
     },
     "execution_count": 16,
     "metadata": {},
     "output_type": "execute_result"
    },
    {
     "data": {
      "image/png": "[encoded data removed]",
      "text/plain": [
       "<Figure size 432x288 with 1 Axes>"
      ]
     },
     "metadata": {
      "needs_background": "light"
     },
     "output_type": "display_data"
    }
   ],
   "source": [
    "filtro_lula = df_presidenciaveis[df_presidenciaveis['Candidato'] == 'Lula']\n",
    "sns.countplot(data=filtro_lula, y='Sentimento')"
   ]
  },
  {
   "cell_type": "code",
   "execution_count": 18,
   "id": "cd64c9e4",
   "metadata": {},
   "outputs": [
    {
     "data": {
      "text/plain": [
       "<AxesSubplot:xlabel='count', ylabel='Sentimento'>"
      ]
     },
     "execution_count": 18,
     "metadata": {},
     "output_type": "execute_result"
    },
    {
     "data": {
      "image/png": "[encoded data removed]",
      "text/plain": [
       "<Figure size 432x288 with 1 Axes>"
      ]
     },
     "metadata": {
      "needs_background": "light"
     },
     "output_type": "display_data"
    }
   ],
   "source": [
    "filtro_bolsonaro = df_presidenciaveis[df_presidenciaveis['Candidato'] == 'Bolsonaro']\n",
    "sns.countplot(data=filtro_bolsonaro, y='Sentimento')"
   ]
  },
  {
   "cell_type": "code",
   "execution_count": 19,
   "id": "79706309",
   "metadata": {},
   "outputs": [
    {
     "data": {
      "text/plain": [
       "<AxesSubplot:xlabel='count', ylabel='Sentimento'>"
      ]
     },
     "execution_count": 19,
     "metadata": {},
     "output_type": "execute_result"
    },
    {
     "data": {
      "image/png": "[encoded data removed]",
      "text/plain": [
       "<Figure size 432x288 with 1 Axes>"
      ]
     },
     "metadata": {
      "needs_background": "light"
     },
     "output_type": "display_data"
    }
   ],
   "source": [
    "filtro_ciro = df_presidenciaveis[df_presidenciaveis['Candidato'] == 'Ciro']\n",
    "sns.countplot(data=filtro_ciro, y='Sentimento')"
   ]
  },
  {
   "cell_type": "code",
   "execution_count": 28,
   "id": "25fdf495",
   "metadata": {},
   "outputs": [],
   "source": [
    "df_presidenciaveis.to_csv('df_precidenciaveis_sentimentos.csv', sep=',', index=False)"
   ]
  },
  {
   "cell_type": "code",
   "execution_count": null,
   "id": "197406df",
   "metadata": {},
   "outputs": [],
   "source": []
  }
 ],
 "metadata": {
  "kernelspec": {
   "display_name": "Python 3 (ipykernel)",
   "language": "python",
   "name": "python3"
  },
  "language_info": {
   "codemirror_mode": {
    "name": "ipython",
    "version": 3
   },
   "file_extension": ".py",
   "mimetype": "text/x-python",
   "name": "python",
   "nbconvert_exporter": "python",
   "pygments_lexer": "ipython3",
   "version": "3.9.7"
  }
 },
 "nbformat": 4,
 "nbformat_minor": 5
}
