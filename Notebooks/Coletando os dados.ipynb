{
 "cells": [
  {
   "cell_type": "markdown",
   "id": "767111c1",
   "metadata": {},
   "source": [
    "<h1>Coleta de dados: candidatos a presidencia das eleições de 2022</h1>"
   ]
  },
  {
   "cell_type": "markdown",
   "id": "8f2e6f4d",
   "metadata": {},
   "source": [
    "<h2> SNSCRAP </h2>\n",
    "\n",
    "Instalando a biblioteca para nos auxiliar no scrap\n",
    "\n",
    "snscrape: biblioteca open source para scrape de social networking services. \n",
    "\n",
    "<a href='https://github.com/JustAnotherArchivist/snscrape'> SNSCRAPE INFO </a>\n",
    "<br>\n",
    "\n",
    "<br>\n"
   ]
  },
  {
   "cell_type": "code",
   "execution_count": 1,
   "id": "0372ad17",
   "metadata": {},
   "outputs": [],
   "source": [
    "#!pip install snscrape"
   ]
  },
  {
   "cell_type": "markdown",
   "id": "b6506220",
   "metadata": {},
   "source": [
    "<h2>Importando as bibliotecas</h2>\n",
    "    \n",
    "    - Vamos utilizar o módulo de scrap do twitter para coletar os tweets\n",
    "    - E o pandas para visualizar o conteúdo"
   ]
  },
  {
   "cell_type": "code",
   "execution_count": 2,
   "id": "da0392ca",
   "metadata": {},
   "outputs": [],
   "source": [
    "import snscrape.modules.twitter as sntwitter\n",
    "import pandas as pd"
   ]
  },
  {
   "cell_type": "code",
   "execution_count": 3,
   "id": "9c02c447",
   "metadata": {},
   "outputs": [],
   "source": [
    "# Quantidade de twitts que serão coletados\n",
    "maximo_de_tweets = 50"
   ]
  },
  {
   "cell_type": "markdown",
   "id": "69945702",
   "metadata": {},
   "source": [
    "<h2>Função para coleta de tweets</h2>\n",
    "\n",
    "Essa função retorna uma lista de tweets com base nos parâmetros cadidato e número máximo de tweets a serem coletados"
   ]
  },
  {
   "cell_type": "code",
   "execution_count": 4,
   "id": "4663ace9",
   "metadata": {},
   "outputs": [],
   "source": [
    "def tweets_candidato(candidato, max_tweets):\n",
    "    lista_de_tweets = []\n",
    "    for i, tweet in enumerate(sntwitter.TwitterSearchScraper(candidato).get_items()):\n",
    "        if i > max_tweets:\n",
    "            return lista_de_tweets\n",
    "            break\n",
    "        lista_de_tweets.append([tweet.date, tweet.id, tweet.content])"
   ]
  },
  {
   "cell_type": "code",
   "execution_count": 5,
   "id": "2615f3ba",
   "metadata": {},
   "outputs": [],
   "source": [
    "# Tweets referentes ao candidato Lula\n",
    "lula = tweets_candidato('lula', maximo_de_tweets)"
   ]
  },
  {
   "cell_type": "code",
   "execution_count": 6,
   "id": "852dbc97",
   "metadata": {},
   "outputs": [
    {
     "data": {
      "text/html": [
       "<div>\n",
       "<style scoped>\n",
       "    .dataframe tbody tr th:only-of-type {\n",
       "        vertical-align: middle;\n",
       "    }\n",
       "\n",
       "    .dataframe tbody tr th {\n",
       "        vertical-align: top;\n",
       "    }\n",
       "\n",
       "    .dataframe thead th {\n",
       "        text-align: right;\n",
       "    }\n",
       "</style>\n",
       "<table border=\"1\" class=\"dataframe\">\n",
       "  <thead>\n",
       "    <tr style=\"text-align: right;\">\n",
       "      <th></th>\n",
       "      <th>Data</th>\n",
       "      <th>Id</th>\n",
       "      <th>Tweet</th>\n",
       "    </tr>\n",
       "  </thead>\n",
       "  <tbody>\n",
       "    <tr>\n",
       "      <th>0</th>\n",
       "      <td>2022-08-01 22:56:21+00:00</td>\n",
       "      <td>1554239639266934785</td>\n",
       "      <td>@JoseAloiseBahia @WilmarPetista @augustotomano...</td>\n",
       "    </tr>\n",
       "    <tr>\n",
       "      <th>1</th>\n",
       "      <td>2022-08-01 22:56:18+00:00</td>\n",
       "      <td>1554239629196394497</td>\n",
       "      <td>Chega o Natal, mas não chega a eleição. Quem a...</td>\n",
       "    </tr>\n",
       "    <tr>\n",
       "      <th>2</th>\n",
       "      <td>2022-08-01 22:56:17+00:00</td>\n",
       "      <td>1554239623374815232</td>\n",
       "      <td>47% lula\\n29%bolsonaro https://t.co/h9jUGDadTP</td>\n",
       "    </tr>\n",
       "    <tr>\n",
       "      <th>3</th>\n",
       "      <td>2022-08-01 22:56:13+00:00</td>\n",
       "      <td>1554239607570669569</td>\n",
       "      <td>@PaulettoShirlei @LulaOficial @ricardostuckert...</td>\n",
       "    </tr>\n",
       "    <tr>\n",
       "      <th>4</th>\n",
       "      <td>2022-08-01 22:56:11+00:00</td>\n",
       "      <td>1554239599005818880</td>\n",
       "      <td>@77_frota @jrbozzella Vai votar no Lula também...</td>\n",
       "    </tr>\n",
       "  </tbody>\n",
       "</table>\n",
       "</div>"
      ],
      "text/plain": [
       "                       Data                   Id  \\\n",
       "0 2022-08-01 22:56:21+00:00  1554239639266934785   \n",
       "1 2022-08-01 22:56:18+00:00  1554239629196394497   \n",
       "2 2022-08-01 22:56:17+00:00  1554239623374815232   \n",
       "3 2022-08-01 22:56:13+00:00  1554239607570669569   \n",
       "4 2022-08-01 22:56:11+00:00  1554239599005818880   \n",
       "\n",
       "                                               Tweet  \n",
       "0  @JoseAloiseBahia @WilmarPetista @augustotomano...  \n",
       "1  Chega o Natal, mas não chega a eleição. Quem a...  \n",
       "2     47% lula\\n29%bolsonaro https://t.co/h9jUGDadTP  \n",
       "3  @PaulettoShirlei @LulaOficial @ricardostuckert...  \n",
       "4  @77_frota @jrbozzella Vai votar no Lula também...  "
      ]
     },
     "execution_count": 6,
     "metadata": {},
     "output_type": "execute_result"
    }
   ],
   "source": [
    "df_lula = pd.DataFrame(lula, columns=['Data', 'Id', 'Tweet'])\n",
    "df_lula.head()"
   ]
  },
  {
   "cell_type": "code",
   "execution_count": 7,
   "id": "10d00415",
   "metadata": {},
   "outputs": [],
   "source": [
    "# Tweets referentes ao candidato Bolsonaro\n",
    "bolsonaro = tweets_candidato('bolsonaro', maximo_de_tweets)"
   ]
  },
  {
   "cell_type": "code",
   "execution_count": 8,
   "id": "629b8331",
   "metadata": {},
   "outputs": [
    {
     "data": {
      "text/html": [
       "<div>\n",
       "<style scoped>\n",
       "    .dataframe tbody tr th:only-of-type {\n",
       "        vertical-align: middle;\n",
       "    }\n",
       "\n",
       "    .dataframe tbody tr th {\n",
       "        vertical-align: top;\n",
       "    }\n",
       "\n",
       "    .dataframe thead th {\n",
       "        text-align: right;\n",
       "    }\n",
       "</style>\n",
       "<table border=\"1\" class=\"dataframe\">\n",
       "  <thead>\n",
       "    <tr style=\"text-align: right;\">\n",
       "      <th></th>\n",
       "      <th>Data</th>\n",
       "      <th>Id</th>\n",
       "      <th>Tweet</th>\n",
       "    </tr>\n",
       "  </thead>\n",
       "  <tbody>\n",
       "    <tr>\n",
       "      <th>0</th>\n",
       "      <td>2022-08-01 22:56:25+00:00</td>\n",
       "      <td>1554239656455282696</td>\n",
       "      <td>@jairbolsonaro 🤣🤣🤣🤣🤣🤣</td>\n",
       "    </tr>\n",
       "    <tr>\n",
       "      <th>1</th>\n",
       "      <td>2022-08-01 22:56:23+00:00</td>\n",
       "      <td>1554239647634563080</td>\n",
       "      <td>@RoLuchsinger Na residência dela não é o Estad...</td>\n",
       "    </tr>\n",
       "    <tr>\n",
       "      <th>2</th>\n",
       "      <td>2022-08-01 22:56:22+00:00</td>\n",
       "      <td>1554239645210361857</td>\n",
       "      <td>FHC, para privatizar, tentou mudar o nome para...</td>\n",
       "    </tr>\n",
       "    <tr>\n",
       "      <th>3</th>\n",
       "      <td>2022-08-01 22:56:22+00:00</td>\n",
       "      <td>1554239643742339074</td>\n",
       "      <td>@BolsonaroSP Sou seguidor do presidente @jairb...</td>\n",
       "    </tr>\n",
       "    <tr>\n",
       "      <th>4</th>\n",
       "      <td>2022-08-01 22:56:21+00:00</td>\n",
       "      <td>1554239640734924801</td>\n",
       "      <td>@carteiroreaca @jairbolsonaro @BolsonaroSP @ta...</td>\n",
       "    </tr>\n",
       "  </tbody>\n",
       "</table>\n",
       "</div>"
      ],
      "text/plain": [
       "                       Data                   Id  \\\n",
       "0 2022-08-01 22:56:25+00:00  1554239656455282696   \n",
       "1 2022-08-01 22:56:23+00:00  1554239647634563080   \n",
       "2 2022-08-01 22:56:22+00:00  1554239645210361857   \n",
       "3 2022-08-01 22:56:22+00:00  1554239643742339074   \n",
       "4 2022-08-01 22:56:21+00:00  1554239640734924801   \n",
       "\n",
       "                                               Tweet  \n",
       "0                              @jairbolsonaro 🤣🤣🤣🤣🤣🤣  \n",
       "1  @RoLuchsinger Na residência dela não é o Estad...  \n",
       "2  FHC, para privatizar, tentou mudar o nome para...  \n",
       "3  @BolsonaroSP Sou seguidor do presidente @jairb...  \n",
       "4  @carteiroreaca @jairbolsonaro @BolsonaroSP @ta...  "
      ]
     },
     "execution_count": 8,
     "metadata": {},
     "output_type": "execute_result"
    }
   ],
   "source": [
    "df_bolsonaro = pd.DataFrame(bolsonaro, columns=['Data', 'Id', 'Tweet'])\n",
    "df_bolsonaro.head()"
   ]
  },
  {
   "cell_type": "code",
   "execution_count": 9,
   "id": "1d831e61",
   "metadata": {},
   "outputs": [],
   "source": [
    "# Tweets referentes ao candidato Ciro\n",
    "ciro = tweets_candidato('ciro', maximo_de_tweets)"
   ]
  },
  {
   "cell_type": "code",
   "execution_count": 10,
   "id": "7f459cb4",
   "metadata": {},
   "outputs": [
    {
     "data": {
      "text/html": [
       "<div>\n",
       "<style scoped>\n",
       "    .dataframe tbody tr th:only-of-type {\n",
       "        vertical-align: middle;\n",
       "    }\n",
       "\n",
       "    .dataframe tbody tr th {\n",
       "        vertical-align: top;\n",
       "    }\n",
       "\n",
       "    .dataframe thead th {\n",
       "        text-align: right;\n",
       "    }\n",
       "</style>\n",
       "<table border=\"1\" class=\"dataframe\">\n",
       "  <thead>\n",
       "    <tr style=\"text-align: right;\">\n",
       "      <th></th>\n",
       "      <th>Data</th>\n",
       "      <th>Id</th>\n",
       "      <th>Tweet</th>\n",
       "    </tr>\n",
       "  </thead>\n",
       "  <tbody>\n",
       "    <tr>\n",
       "      <th>0</th>\n",
       "      <td>2022-08-01 22:56:25+00:00</td>\n",
       "      <td>1554239656455282696</td>\n",
       "      <td>@jairbolsonaro 🤣🤣🤣🤣🤣🤣</td>\n",
       "    </tr>\n",
       "    <tr>\n",
       "      <th>1</th>\n",
       "      <td>2022-08-01 22:56:23+00:00</td>\n",
       "      <td>1554239647634563080</td>\n",
       "      <td>@RoLuchsinger Na residência dela não é o Estad...</td>\n",
       "    </tr>\n",
       "    <tr>\n",
       "      <th>2</th>\n",
       "      <td>2022-08-01 22:56:22+00:00</td>\n",
       "      <td>1554239645210361857</td>\n",
       "      <td>FHC, para privatizar, tentou mudar o nome para...</td>\n",
       "    </tr>\n",
       "    <tr>\n",
       "      <th>3</th>\n",
       "      <td>2022-08-01 22:56:22+00:00</td>\n",
       "      <td>1554239643742339074</td>\n",
       "      <td>@BolsonaroSP Sou seguidor do presidente @jairb...</td>\n",
       "    </tr>\n",
       "    <tr>\n",
       "      <th>4</th>\n",
       "      <td>2022-08-01 22:56:21+00:00</td>\n",
       "      <td>1554239640734924801</td>\n",
       "      <td>@carteiroreaca @jairbolsonaro @BolsonaroSP @ta...</td>\n",
       "    </tr>\n",
       "  </tbody>\n",
       "</table>\n",
       "</div>"
      ],
      "text/plain": [
       "                       Data                   Id  \\\n",
       "0 2022-08-01 22:56:25+00:00  1554239656455282696   \n",
       "1 2022-08-01 22:56:23+00:00  1554239647634563080   \n",
       "2 2022-08-01 22:56:22+00:00  1554239645210361857   \n",
       "3 2022-08-01 22:56:22+00:00  1554239643742339074   \n",
       "4 2022-08-01 22:56:21+00:00  1554239640734924801   \n",
       "\n",
       "                                               Tweet  \n",
       "0                              @jairbolsonaro 🤣🤣🤣🤣🤣🤣  \n",
       "1  @RoLuchsinger Na residência dela não é o Estad...  \n",
       "2  FHC, para privatizar, tentou mudar o nome para...  \n",
       "3  @BolsonaroSP Sou seguidor do presidente @jairb...  \n",
       "4  @carteiroreaca @jairbolsonaro @BolsonaroSP @ta...  "
      ]
     },
     "execution_count": 10,
     "metadata": {},
     "output_type": "execute_result"
    }
   ],
   "source": [
    "df_ciro = pd.DataFrame(bolsonaro, columns=['Data', 'Id', 'Tweet'])\n",
    "df_ciro.head()"
   ]
  },
  {
   "cell_type": "markdown",
   "id": "78b42f6c",
   "metadata": {},
   "source": [
    "<h2>Unir dataframes e salvar em .CSV</h2>\n",
    "\n",
    "    - Criar uma coluna com o nome do candidato de cada df.\n",
    "    - Concatenar dfs.\n",
    "    - Salvar .CSV"
   ]
  },
  {
   "cell_type": "code",
   "execution_count": 11,
   "id": "db228569",
   "metadata": {},
   "outputs": [],
   "source": [
    "df_lula['Candidato'] = 'Lula'\n",
    "df_bolsonaro['Candidato'] = 'Bolsonaro'\n",
    "df_ciro['Candidato'] = 'Ciro'"
   ]
  },
  {
   "cell_type": "code",
   "execution_count": 12,
   "id": "efe9a876",
   "metadata": {},
   "outputs": [
    {
     "data": {
      "text/plain": [
       "array(['Lula', 'Bolsonaro', 'Ciro'], dtype=object)"
      ]
     },
     "execution_count": 12,
     "metadata": {},
     "output_type": "execute_result"
    }
   ],
   "source": [
    "df_presidenciaveis = pd.concat([df_lula, df_bolsonaro, df_ciro], axis=0)\n",
    "df_presidenciaveis['Candidato'].unique()"
   ]
  },
  {
   "cell_type": "code",
   "execution_count": 13,
   "id": "c064d69d",
   "metadata": {},
   "outputs": [],
   "source": [
    "df_presidenciaveis.to_csv('DataFrame_Presidenciaveis_2022',sep=',', index=False)"
   ]
  }
 ],
 "metadata": {
  "kernelspec": {
   "display_name": "Python 3 (ipykernel)",
   "language": "python",
   "name": "python3"
  },
  "language_info": {
   "codemirror_mode": {
    "name": "ipython",
    "version": 3
   },
   "file_extension": ".py",
   "mimetype": "text/x-python",
   "name": "python",
   "nbconvert_exporter": "python",
   "pygments_lexer": "ipython3",
   "version": "3.9.7"
  }
 },
 "nbformat": 4,
 "nbformat_minor": 5
}
