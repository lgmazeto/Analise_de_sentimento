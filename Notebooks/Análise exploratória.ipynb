{
 "cells": [
  {
   "cell_type": "markdown",
   "id": "0410df55",
   "metadata": {},
   "source": [
    "<h1>Análise exploratória dos tweets</h1>\n",
    "\n",
    "    - Verificar dados com pandas.\n",
    "    - Limpar dados com regular expression.\n",
    "   "
   ]
  },
  {
   "cell_type": "code",
   "execution_count": 24,
   "id": "0e32b4d9",
   "metadata": {},
   "outputs": [],
   "source": [
    "import pandas as pd\n",
    "import re"
   ]
  },
  {
   "cell_type": "code",
   "execution_count": 5,
   "id": "8aa39916",
   "metadata": {},
   "outputs": [],
   "source": [
    "df_presidenciaveis = pd.read_csv('DataFrame_Presidenciaveis_2022')"
   ]
  },
  {
   "cell_type": "code",
   "execution_count": 6,
   "id": "b59a92b4",
   "metadata": {},
   "outputs": [
    {
     "data": {
      "text/html": [
       "<div>\n",
       "<style scoped>\n",
       "    .dataframe tbody tr th:only-of-type {\n",
       "        vertical-align: middle;\n",
       "    }\n",
       "\n",
       "    .dataframe tbody tr th {\n",
       "        vertical-align: top;\n",
       "    }\n",
       "\n",
       "    .dataframe thead th {\n",
       "        text-align: right;\n",
       "    }\n",
       "</style>\n",
       "<table border=\"1\" class=\"dataframe\">\n",
       "  <thead>\n",
       "    <tr style=\"text-align: right;\">\n",
       "      <th></th>\n",
       "      <th>Data</th>\n",
       "      <th>Id</th>\n",
       "      <th>Tweet</th>\n",
       "      <th>Candidato</th>\n",
       "    </tr>\n",
       "  </thead>\n",
       "  <tbody>\n",
       "    <tr>\n",
       "      <th>0</th>\n",
       "      <td>2022-08-01 22:56:21+00:00</td>\n",
       "      <td>1554239639266934785</td>\n",
       "      <td>@JoseAloiseBahia @WilmarPetista @augustotomano...</td>\n",
       "      <td>Lula</td>\n",
       "    </tr>\n",
       "    <tr>\n",
       "      <th>1</th>\n",
       "      <td>2022-08-01 22:56:18+00:00</td>\n",
       "      <td>1554239629196394497</td>\n",
       "      <td>Chega o Natal, mas não chega a eleição. Quem a...</td>\n",
       "      <td>Lula</td>\n",
       "    </tr>\n",
       "    <tr>\n",
       "      <th>2</th>\n",
       "      <td>2022-08-01 22:56:17+00:00</td>\n",
       "      <td>1554239623374815232</td>\n",
       "      <td>47% lula\\n29%bolsonaro https://t.co/h9jUGDadTP</td>\n",
       "      <td>Lula</td>\n",
       "    </tr>\n",
       "    <tr>\n",
       "      <th>3</th>\n",
       "      <td>2022-08-01 22:56:13+00:00</td>\n",
       "      <td>1554239607570669569</td>\n",
       "      <td>@PaulettoShirlei @LulaOficial @ricardostuckert...</td>\n",
       "      <td>Lula</td>\n",
       "    </tr>\n",
       "    <tr>\n",
       "      <th>4</th>\n",
       "      <td>2022-08-01 22:56:11+00:00</td>\n",
       "      <td>1554239599005818880</td>\n",
       "      <td>@77_frota @jrbozzella Vai votar no Lula também...</td>\n",
       "      <td>Lula</td>\n",
       "    </tr>\n",
       "  </tbody>\n",
       "</table>\n",
       "</div>"
      ],
      "text/plain": [
       "                        Data                   Id  \\\n",
       "0  2022-08-01 22:56:21+00:00  1554239639266934785   \n",
       "1  2022-08-01 22:56:18+00:00  1554239629196394497   \n",
       "2  2022-08-01 22:56:17+00:00  1554239623374815232   \n",
       "3  2022-08-01 22:56:13+00:00  1554239607570669569   \n",
       "4  2022-08-01 22:56:11+00:00  1554239599005818880   \n",
       "\n",
       "                                               Tweet Candidato  \n",
       "0  @JoseAloiseBahia @WilmarPetista @augustotomano...      Lula  \n",
       "1  Chega o Natal, mas não chega a eleição. Quem a...      Lula  \n",
       "2     47% lula\\n29%bolsonaro https://t.co/h9jUGDadTP      Lula  \n",
       "3  @PaulettoShirlei @LulaOficial @ricardostuckert...      Lula  \n",
       "4  @77_frota @jrbozzella Vai votar no Lula também...      Lula  "
      ]
     },
     "execution_count": 6,
     "metadata": {},
     "output_type": "execute_result"
    }
   ],
   "source": [
    "df_presidenciaveis.head()"
   ]
  },
  {
   "cell_type": "code",
   "execution_count": 7,
   "id": "7b31be7e",
   "metadata": {},
   "outputs": [
    {
     "name": "stdout",
     "output_type": "stream",
     "text": [
      "<class 'pandas.core.frame.DataFrame'>\n",
      "RangeIndex: 153 entries, 0 to 152\n",
      "Data columns (total 4 columns):\n",
      " #   Column     Non-Null Count  Dtype \n",
      "---  ------     --------------  ----- \n",
      " 0   Data       153 non-null    object\n",
      " 1   Id         153 non-null    int64 \n",
      " 2   Tweet      153 non-null    object\n",
      " 3   Candidato  153 non-null    object\n",
      "dtypes: int64(1), object(3)\n",
      "memory usage: 4.9+ KB\n"
     ]
    }
   ],
   "source": [
    "df_presidenciaveis.info()"
   ]
  },
  {
   "cell_type": "code",
   "execution_count": 10,
   "id": "ea770d21",
   "metadata": {},
   "outputs": [
    {
     "data": {
      "text/plain": [
       "Data         0\n",
       "Id           0\n",
       "Tweet        0\n",
       "Candidato    0\n",
       "dtype: int64"
      ]
     },
     "execution_count": 10,
     "metadata": {},
     "output_type": "execute_result"
    }
   ],
   "source": [
    "df_presidenciaveis.isnull().sum()"
   ]
  },
  {
   "cell_type": "code",
   "execution_count": 11,
   "id": "b5a1ac84",
   "metadata": {},
   "outputs": [
    {
     "data": {
      "text/html": [
       "<div>\n",
       "<style scoped>\n",
       "    .dataframe tbody tr th:only-of-type {\n",
       "        vertical-align: middle;\n",
       "    }\n",
       "\n",
       "    .dataframe tbody tr th {\n",
       "        vertical-align: top;\n",
       "    }\n",
       "\n",
       "    .dataframe thead th {\n",
       "        text-align: right;\n",
       "    }\n",
       "</style>\n",
       "<table border=\"1\" class=\"dataframe\">\n",
       "  <thead>\n",
       "    <tr style=\"text-align: right;\">\n",
       "      <th></th>\n",
       "      <th>Id</th>\n",
       "    </tr>\n",
       "  </thead>\n",
       "  <tbody>\n",
       "    <tr>\n",
       "      <th>count</th>\n",
       "      <td>1.530000e+02</td>\n",
       "    </tr>\n",
       "    <tr>\n",
       "      <th>mean</th>\n",
       "      <td>1.554240e+18</td>\n",
       "    </tr>\n",
       "    <tr>\n",
       "      <th>std</th>\n",
       "      <td>7.174903e+10</td>\n",
       "    </tr>\n",
       "    <tr>\n",
       "      <th>min</th>\n",
       "      <td>1.554239e+18</td>\n",
       "    </tr>\n",
       "    <tr>\n",
       "      <th>25%</th>\n",
       "      <td>1.554240e+18</td>\n",
       "    </tr>\n",
       "    <tr>\n",
       "      <th>50%</th>\n",
       "      <td>1.554240e+18</td>\n",
       "    </tr>\n",
       "    <tr>\n",
       "      <th>75%</th>\n",
       "      <td>1.554240e+18</td>\n",
       "    </tr>\n",
       "    <tr>\n",
       "      <th>max</th>\n",
       "      <td>1.554240e+18</td>\n",
       "    </tr>\n",
       "  </tbody>\n",
       "</table>\n",
       "</div>"
      ],
      "text/plain": [
       "                 Id\n",
       "count  1.530000e+02\n",
       "mean   1.554240e+18\n",
       "std    7.174903e+10\n",
       "min    1.554239e+18\n",
       "25%    1.554240e+18\n",
       "50%    1.554240e+18\n",
       "75%    1.554240e+18\n",
       "max    1.554240e+18"
      ]
     },
     "execution_count": 11,
     "metadata": {},
     "output_type": "execute_result"
    }
   ],
   "source": [
    "df_presidenciaveis.describe()"
   ]
  },
  {
   "cell_type": "code",
   "execution_count": 25,
   "id": "7810b516",
   "metadata": {},
   "outputs": [],
   "source": [
    "tweets = df_presidenciaveis['Tweet']"
   ]
  },
  {
   "cell_type": "code",
   "execution_count": 26,
   "id": "d791bb9e",
   "metadata": {},
   "outputs": [],
   "source": [
    "# Função para limpeza dos tweets.\n",
    "def limpar_tweet(tweet):\n",
    "    tweet = tweet.lower()\n",
    "    tweet = re.sub('\\n','',tweet)\n",
    "    tweet = re.sub('@[^\\s]','',tweet)\n",
    "    tweet = re.sub('\\B#\\S+','',tweet)\n",
    "    tweet = re.sub('https?>//\\S+|www\\.\\S+','',tweet)\n",
    "    return tweet"
   ]
  },
  {
   "cell_type": "code",
   "execution_count": 27,
   "id": "97e1d037",
   "metadata": {},
   "outputs": [],
   "source": [
    "tweets = tweets.apply(lambda t:limpar_tweet(t))"
   ]
  },
  {
   "cell_type": "code",
   "execution_count": 32,
   "id": "2cf93799",
   "metadata": {},
   "outputs": [
    {
     "data": {
      "text/plain": [
       "42     esse é o retrato de sp... os benefício do gove...\n",
       "54     olsonarosp sou seguidor do presidente airbolso...\n",
       "139    ussararvaz1 enadorhumberto que hospital foi co...\n",
       "56     laviobolsonaro airbolsonaro https://t.co/exrpr...\n",
       "88     ussararvaz1 enadorhumberto que hospital foi co...\n",
       "24     lexandrekalil ulaoficial bolsonaro e zema reel...\n",
       "34     ntoniotabet já se olhou no espelho,deve está c...\n",
       "147    arcisiogdf airbolsonaro governador do meu sp, ...\n",
       "46                       urir6gtabr ulaoficial lula 2022\n",
       "74     osangelamorosp o divórcio vem conja? pois o se...\n",
       "Name: Tweet, dtype: object"
      ]
     },
     "execution_count": 32,
     "metadata": {},
     "output_type": "execute_result"
    }
   ],
   "source": [
    "tweets.sample(10)"
   ]
  },
  {
   "cell_type": "code",
   "execution_count": 33,
   "id": "3cd22184",
   "metadata": {},
   "outputs": [],
   "source": [
    "df_presidenciaveis['Tweet_limpo'] = tweets"
   ]
  },
  {
   "cell_type": "code",
   "execution_count": 34,
   "id": "85d0d800",
   "metadata": {},
   "outputs": [
    {
     "data": {
      "text/html": [
       "<div>\n",
       "<style scoped>\n",
       "    .dataframe tbody tr th:only-of-type {\n",
       "        vertical-align: middle;\n",
       "    }\n",
       "\n",
       "    .dataframe tbody tr th {\n",
       "        vertical-align: top;\n",
       "    }\n",
       "\n",
       "    .dataframe thead th {\n",
       "        text-align: right;\n",
       "    }\n",
       "</style>\n",
       "<table border=\"1\" class=\"dataframe\">\n",
       "  <thead>\n",
       "    <tr style=\"text-align: right;\">\n",
       "      <th></th>\n",
       "      <th>Data</th>\n",
       "      <th>Id</th>\n",
       "      <th>Tweet</th>\n",
       "      <th>Candidato</th>\n",
       "      <th>Tweet_limpo</th>\n",
       "    </tr>\n",
       "  </thead>\n",
       "  <tbody>\n",
       "    <tr>\n",
       "      <th>113</th>\n",
       "      <td>2022-08-01 22:56:16+00:00</td>\n",
       "      <td>1554239620447100928</td>\n",
       "      <td>@bolsonaromel2 @OGloboPolitica Mel Bolsonaro. ...</td>\n",
       "      <td>Ciro</td>\n",
       "      <td>olsonaromel2 globopolitica mel bolsonaro. haah...</td>\n",
       "    </tr>\n",
       "    <tr>\n",
       "      <th>44</th>\n",
       "      <td>2022-08-01 22:55:21+00:00</td>\n",
       "      <td>1554239388636307456</td>\n",
       "      <td>E meu pai q ouviu eu falando q ia lavar dinhei...</td>\n",
       "      <td>Lula</td>\n",
       "      <td>e meu pai q ouviu eu falando q ia lavar dinhei...</td>\n",
       "    </tr>\n",
       "    <tr>\n",
       "      <th>148</th>\n",
       "      <td>2022-08-01 22:55:54+00:00</td>\n",
       "      <td>1554239529183334400</td>\n",
       "      <td>@Robert_jus @Lojas_Renner @jairbolsonaro E as ...</td>\n",
       "      <td>Ciro</td>\n",
       "      <td>obert_jus ojas_renner airbolsonaro e as rachad...</td>\n",
       "    </tr>\n",
       "    <tr>\n",
       "      <th>88</th>\n",
       "      <td>2022-08-01 22:55:58+00:00</td>\n",
       "      <td>1554239544282828811</td>\n",
       "      <td>@JussaraRVaz1 @senadorhumberto Que hospital fo...</td>\n",
       "      <td>Bolsonaro</td>\n",
       "      <td>ussararvaz1 enadorhumberto que hospital foi co...</td>\n",
       "    </tr>\n",
       "    <tr>\n",
       "      <th>111</th>\n",
       "      <td>2022-08-01 22:56:17+00:00</td>\n",
       "      <td>1554239626319204352</td>\n",
       "      <td>@jairbolsonaro Hahahahahahahah 🤣🤣🤣🤣</td>\n",
       "      <td>Ciro</td>\n",
       "      <td>airbolsonaro hahahahahahahah 🤣🤣🤣🤣</td>\n",
       "    </tr>\n",
       "    <tr>\n",
       "      <th>81</th>\n",
       "      <td>2022-08-01 22:56:02+00:00</td>\n",
       "      <td>1554239562548801536</td>\n",
       "      <td>Bolsonaro é sorteado como primeiro presidenciá...</td>\n",
       "      <td>Bolsonaro</td>\n",
       "      <td>bolsonaro é sorteado como primeiro presidenciá...</td>\n",
       "    </tr>\n",
       "    <tr>\n",
       "      <th>80</th>\n",
       "      <td>2022-08-01 22:56:02+00:00</td>\n",
       "      <td>1554239563312373760</td>\n",
       "      <td>@jairbolsonaro fazendo amigos e idiotas! https...</td>\n",
       "      <td>Bolsonaro</td>\n",
       "      <td>airbolsonaro fazendo amigos e idiotas! https:/...</td>\n",
       "    </tr>\n",
       "    <tr>\n",
       "      <th>54</th>\n",
       "      <td>2022-08-01 22:56:22+00:00</td>\n",
       "      <td>1554239643742339074</td>\n",
       "      <td>@BolsonaroSP Sou seguidor do presidente @jairb...</td>\n",
       "      <td>Bolsonaro</td>\n",
       "      <td>olsonarosp sou seguidor do presidente airbolso...</td>\n",
       "    </tr>\n",
       "    <tr>\n",
       "      <th>46</th>\n",
       "      <td>2022-08-01 22:55:19+00:00</td>\n",
       "      <td>1554239380642037761</td>\n",
       "      <td>@Yurir6gtabr @LulaOficial Lula 2022</td>\n",
       "      <td>Lula</td>\n",
       "      <td>urir6gtabr ulaoficial lula 2022</td>\n",
       "    </tr>\n",
       "    <tr>\n",
       "      <th>30</th>\n",
       "      <td>2022-08-01 22:55:37+00:00</td>\n",
       "      <td>1554239457427087365</td>\n",
       "      <td>@RafaelFonteles_ Ué o Picolé de chuchu aí não ...</td>\n",
       "      <td>Lula</td>\n",
       "      <td>afaelfonteles_ ué o picolé de chuchu aí não é ...</td>\n",
       "    </tr>\n",
       "  </tbody>\n",
       "</table>\n",
       "</div>"
      ],
      "text/plain": [
       "                          Data                   Id  \\\n",
       "113  2022-08-01 22:56:16+00:00  1554239620447100928   \n",
       "44   2022-08-01 22:55:21+00:00  1554239388636307456   \n",
       "148  2022-08-01 22:55:54+00:00  1554239529183334400   \n",
       "88   2022-08-01 22:55:58+00:00  1554239544282828811   \n",
       "111  2022-08-01 22:56:17+00:00  1554239626319204352   \n",
       "81   2022-08-01 22:56:02+00:00  1554239562548801536   \n",
       "80   2022-08-01 22:56:02+00:00  1554239563312373760   \n",
       "54   2022-08-01 22:56:22+00:00  1554239643742339074   \n",
       "46   2022-08-01 22:55:19+00:00  1554239380642037761   \n",
       "30   2022-08-01 22:55:37+00:00  1554239457427087365   \n",
       "\n",
       "                                                 Tweet  Candidato  \\\n",
       "113  @bolsonaromel2 @OGloboPolitica Mel Bolsonaro. ...       Ciro   \n",
       "44   E meu pai q ouviu eu falando q ia lavar dinhei...       Lula   \n",
       "148  @Robert_jus @Lojas_Renner @jairbolsonaro E as ...       Ciro   \n",
       "88   @JussaraRVaz1 @senadorhumberto Que hospital fo...  Bolsonaro   \n",
       "111                @jairbolsonaro Hahahahahahahah 🤣🤣🤣🤣       Ciro   \n",
       "81   Bolsonaro é sorteado como primeiro presidenciá...  Bolsonaro   \n",
       "80   @jairbolsonaro fazendo amigos e idiotas! https...  Bolsonaro   \n",
       "54   @BolsonaroSP Sou seguidor do presidente @jairb...  Bolsonaro   \n",
       "46                 @Yurir6gtabr @LulaOficial Lula 2022       Lula   \n",
       "30   @RafaelFonteles_ Ué o Picolé de chuchu aí não ...       Lula   \n",
       "\n",
       "                                           Tweet_limpo  \n",
       "113  olsonaromel2 globopolitica mel bolsonaro. haah...  \n",
       "44   e meu pai q ouviu eu falando q ia lavar dinhei...  \n",
       "148  obert_jus ojas_renner airbolsonaro e as rachad...  \n",
       "88   ussararvaz1 enadorhumberto que hospital foi co...  \n",
       "111                  airbolsonaro hahahahahahahah 🤣🤣🤣🤣  \n",
       "81   bolsonaro é sorteado como primeiro presidenciá...  \n",
       "80   airbolsonaro fazendo amigos e idiotas! https:/...  \n",
       "54   olsonarosp sou seguidor do presidente airbolso...  \n",
       "46                     urir6gtabr ulaoficial lula 2022  \n",
       "30   afaelfonteles_ ué o picolé de chuchu aí não é ...  "
      ]
     },
     "execution_count": 34,
     "metadata": {},
     "output_type": "execute_result"
    }
   ],
   "source": [
    "df_presidenciaveis.sample(10)"
   ]
  },
  {
   "cell_type": "code",
   "execution_count": 36,
   "id": "7e0c0d9f",
   "metadata": {},
   "outputs": [],
   "source": [
    "df_presidenciaveis.to_csv('DF_Presidenciaveis_2022_limpo',sep=',', index=False)"
   ]
  }
 ],
 "metadata": {
  "kernelspec": {
   "display_name": "Python 3 (ipykernel)",
   "language": "python",
   "name": "python3"
  },
  "language_info": {
   "codemirror_mode": {
    "name": "ipython",
    "version": 3
   },
   "file_extension": ".py",
   "mimetype": "text/x-python",
   "name": "python",
   "nbconvert_exporter": "python",
   "pygments_lexer": "ipython3",
   "version": "3.9.7"
  }
 },
 "nbformat": 4,
 "nbformat_minor": 5
}
